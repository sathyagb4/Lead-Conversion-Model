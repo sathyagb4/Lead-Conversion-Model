{
 "cells": [
  {
   "cell_type": "code",
   "execution_count": null,
   "id": "dd1ea5f2-789c-4729-882e-1257189009da",
   "metadata": {},
   "outputs": [
    {
     "name": "stdout",
     "output_type": "stream",
     "text": [
      "Defaulting to user installation because normal site-packages is not writeable\n",
      "Requirement already satisfied: lightgbm in ./Library/Python/3.11/lib/python/site-packages (4.6.0)\n",
      "Requirement already satisfied: scikit-learn in ./Library/Python/3.11/lib/python/site-packages (1.7.1)\n",
      "Requirement already satisfied: pandas in /Library/Frameworks/Python.framework/Versions/3.11/lib/python3.11/site-packages (2.0.2)\n",
      "Requirement already satisfied: numpy in /Library/Frameworks/Python.framework/Versions/3.11/lib/python3.11/site-packages (1.25.0)\n",
      "Requirement already satisfied: matplotlib in /Library/Frameworks/Python.framework/Versions/3.11/lib/python3.11/site-packages (3.9.1)\n",
      "Requirement already satisfied: scipy in /Library/Frameworks/Python.framework/Versions/3.11/lib/python3.11/site-packages (from lightgbm) (1.14.0)\n",
      "Requirement already satisfied: joblib>=1.2.0 in ./Library/Python/3.11/lib/python/site-packages (from scikit-learn) (1.5.1)\n",
      "Requirement already satisfied: threadpoolctl>=3.1.0 in ./Library/Python/3.11/lib/python/site-packages (from scikit-learn) (3.6.0)\n",
      "Requirement already satisfied: python-dateutil>=2.8.2 in /Library/Frameworks/Python.framework/Versions/3.11/lib/python3.11/site-packages (from pandas) (2.8.2)\n",
      "Requirement already satisfied: pytz>=2020.1 in /Library/Frameworks/Python.framework/Versions/3.11/lib/python3.11/site-packages (from pandas) (2022.7)\n",
      "Requirement already satisfied: tzdata>=2022.1 in /Library/Frameworks/Python.framework/Versions/3.11/lib/python3.11/site-packages (from pandas) (2023.3)\n",
      "Requirement already satisfied: contourpy>=1.0.1 in /Library/Frameworks/Python.framework/Versions/3.11/lib/python3.11/site-packages (from matplotlib) (1.2.1)\n",
      "Requirement already satisfied: cycler>=0.10 in /Library/Frameworks/Python.framework/Versions/3.11/lib/python3.11/site-packages (from matplotlib) (0.12.1)\n",
      "Requirement already satisfied: fonttools>=4.22.0 in /Library/Frameworks/Python.framework/Versions/3.11/lib/python3.11/site-packages (from matplotlib) (4.53.1)\n",
      "Requirement already satisfied: kiwisolver>=1.3.1 in /Library/Frameworks/Python.framework/Versions/3.11/lib/python3.11/site-packages (from matplotlib) (1.4.5)\n",
      "Requirement already satisfied: packaging>=20.0 in /Library/Frameworks/Python.framework/Versions/3.11/lib/python3.11/site-packages (from matplotlib) (22.0)\n",
      "Requirement already satisfied: pillow>=8 in /Library/Frameworks/Python.framework/Versions/3.11/lib/python3.11/site-packages (from matplotlib) (9.5.0)\n",
      "Requirement already satisfied: pyparsing>=2.3.1 in /Library/Frameworks/Python.framework/Versions/3.11/lib/python3.11/site-packages (from matplotlib) (3.1.1)\n",
      "Requirement already satisfied: six>=1.5 in /Library/Frameworks/Python.framework/Versions/3.11/lib/python3.11/site-packages (from python-dateutil>=2.8.2->pandas) (1.16.0)\n",
      "\n",
      "\u001b[1m[\u001b[0m\u001b[34;49mnotice\u001b[0m\u001b[1;39;49m]\u001b[0m\u001b[39;49m A new release of pip is available: \u001b[0m\u001b[31;49m25.0\u001b[0m\u001b[39;49m -> \u001b[0m\u001b[32;49m25.2\u001b[0m\n",
      "\u001b[1m[\u001b[0m\u001b[34;49mnotice\u001b[0m\u001b[1;39;49m]\u001b[0m\u001b[39;49m To update, run: \u001b[0m\u001b[32;49m/Library/Frameworks/Python.framework/Versions/3.11/bin/python3.11 -m pip install --upgrade pip\u001b[0m\n",
      "Defaulting to user installation because normal site-packages is not writeable\n",
      "Requirement already satisfied: dnspython in ./Library/Python/3.11/lib/python/site-packages (2.7.0)\n",
      "\n",
      "\u001b[1m[\u001b[0m\u001b[34;49mnotice\u001b[0m\u001b[1;39;49m]\u001b[0m\u001b[39;49m A new release of pip is available: \u001b[0m\u001b[31;49m25.0\u001b[0m\u001b[39;49m -> \u001b[0m\u001b[32;49m25.2\u001b[0m\n",
      "\u001b[1m[\u001b[0m\u001b[34;49mnotice\u001b[0m\u001b[1;39;49m]\u001b[0m\u001b[39;49m To update, run: \u001b[0m\u001b[32;49m/Library/Frameworks/Python.framework/Versions/3.11/bin/python3.11 -m pip install --upgrade pip\u001b[0m\n"
     ]
    }
   ],
   "source": [
    "!pip install lightgbm scikit-learn pandas numpy matplotlib\n",
    "!pip install dnspython\n"
   ]
  },
  {
   "cell_type": "code",
   "execution_count": 10,
   "id": "98bbded5-0230-43c0-a069-b07e7b5dad9a",
   "metadata": {},
   "outputs": [],
   "source": [
    "import pandas as pd\n",
    "import numpy as np\n",
    "import lightgbm as lgb\n",
    "from sklearn.model_selection import train_test_split\n",
    "from sklearn.metrics import ndcg_score\n"
   ]
  },
  {
   "cell_type": "code",
   "execution_count": 11,
   "id": "6c3da550-21f9-40ea-9ef3-0a2b63e55ad9",
   "metadata": {},
   "outputs": [
    {
     "name": "stdout",
     "output_type": "stream",
     "text": [
      "/opt/anaconda3/bin/python\n"
     ]
    }
   ],
   "source": [
    "import sys\n",
    "print(sys.executable)\n"
   ]
  },
  {
   "cell_type": "code",
   "execution_count": 12,
   "id": "b3301c26-7056-40b1-8070-3700ebfe0f77",
   "metadata": {},
   "outputs": [
    {
     "name": "stdout",
     "output_type": "stream",
     "text": [
      "Requirement already satisfied: lightgbm in /opt/anaconda3/lib/python3.12/site-packages (4.6.0)\n",
      "Requirement already satisfied: numpy>=1.17.0 in /opt/anaconda3/lib/python3.12/site-packages (from lightgbm) (1.26.4)\n",
      "Requirement already satisfied: scipy in /opt/anaconda3/lib/python3.12/site-packages (from lightgbm) (1.13.1)\n",
      "Requirement already satisfied: pymongo in /opt/anaconda3/lib/python3.12/site-packages (4.14.1)\n",
      "Requirement already satisfied: dnspython<3.0.0,>=1.16.0 in /opt/anaconda3/lib/python3.12/site-packages (from pymongo) (2.7.0)\n"
     ]
    }
   ],
   "source": [
    "!{sys.executable} -m pip install lightgbm\n",
    "!{sys.executable} -m pip install pymongo\n",
    "\n"
   ]
  },
  {
   "cell_type": "code",
   "execution_count": 13,
   "id": "6a8e5064-c88a-4169-8a0d-cf628ea2e205",
   "metadata": {},
   "outputs": [],
   "source": [
    "import lightgbm as lgb\n",
    "from pymongo import MongoClient\n",
    "from sklearn.metrics import accuracy_score, roc_auc_score\n",
    "from sklearn.preprocessing import LabelEncoder\n"
   ]
  },
  {
   "cell_type": "code",
   "execution_count": 15,
   "id": "0f3094d9-13df-4a01-ba7b-ba0cde9c813a",
   "metadata": {},
   "outputs": [
    {
     "name": "stdout",
     "output_type": "stream",
     "text": [
      "                        _id  group_id      source   age    income  \\\n",
      "0  68f1db744a63589ed705fc7e         1  Online Ads  56.0  166867.0   \n",
      "1  68f1db744a63589ed705fc7f         1  Online Ads  28.0  132727.0   \n",
      "2  68f1db744a63589ed705fc80         1  Online Ads  61.0       NaN   \n",
      "3  68f1db744a63589ed705fc81         1  Online Ads  44.0  176730.0   \n",
      "4  68f1db744a63589ed705fc82         1  Online Ads  20.0   89092.0   \n",
      "\n",
      "   credit_score  previous_products  clicks  time_on_site  loan_balance  \\\n",
      "0         570.0                2.0     7.0      5.986585        6265.0   \n",
      "1         672.0                NaN     7.0      7.080726        1685.0   \n",
      "2           NaN                NaN     0.0      3.042422           NaN   \n",
      "3         810.0                1.0    15.0      2.327713           NaN   \n",
      "4           NaN                0.0     6.0      0.132650           NaN   \n",
      "\n",
      "   amount_spent_on_call  clicked_landing_page  branch_wait_time  \\\n",
      "0                   NaN                   NaN               NaN   \n",
      "1                   NaN                   NaN               NaN   \n",
      "2                   NaN                   NaN               NaN   \n",
      "3                   NaN                   NaN               NaN   \n",
      "4                   NaN                   NaN               NaN   \n",
      "\n",
      "   referral_bonus  ad_impressions  converted  \n",
      "0             NaN           467.0          1  \n",
      "1             NaN           309.0          0  \n",
      "2             NaN           253.0          0  \n",
      "3             NaN           958.0          1  \n",
      "4             NaN           316.0          0  \n",
      "group_id                  int64\n",
      "source                   object\n",
      "age                     float64\n",
      "income                  float64\n",
      "credit_score            float64\n",
      "previous_products       float64\n",
      "clicks                  float64\n",
      "time_on_site            float64\n",
      "loan_balance            float64\n",
      "amount_spent_on_call    float64\n",
      "clicked_landing_page    float64\n",
      "branch_wait_time        float64\n",
      "referral_bonus          float64\n",
      "ad_impressions          float64\n",
      "converted                 int64\n",
      "dtype: object\n"
     ]
    },
    {
     "name": "stderr",
     "output_type": "stream",
     "text": [
      "/var/folders/vh/yh6fpcsx7t54h13svtd49lb80000gn/T/ipykernel_13043/474846519.py:14: FutureWarning: errors='ignore' is deprecated and will raise in a future version. Use to_numeric without passing `errors` and catch exceptions explicitly instead\n",
      "  df = df.apply(pd.to_numeric, errors=\"ignore\")\n"
     ]
    }
   ],
   "source": [
    "client = MongoClient(\"mongo_uri\")\n",
    "db = client[\"db_name\"]\n",
    "collection = db[\"coll_name\"]\n",
    "all_documents = collection.find({})\n",
    "data_list = list(all_documents) \n",
    "df = pd.DataFrame(data_list)\n",
    "print(df.head())\n",
    "\n",
    "\n",
    "#cleaning from mongo \n",
    "df = df.drop(columns=[\"_id\"], errors=\"ignore\")\n",
    "\n",
    "#Convert everything that can be a number into numeric (others stay as is)\n",
    "df = df.apply(pd.to_numeric, errors=\"ignore\")\n",
    "#For yes/no, true/false, convert to 0/1\n",
    "for col in df.columns:\n",
    "    if df[col].dtype == \"object\":\n",
    "       df[col] = df[col].astype(str).str.lower().map(\n",
    "            {\"yes\": 1, \"no\": 0, \"true\": 1, \"false\": 0}\n",
    "        ).fillna(df[col])\n",
    "print(df.dtypes)\n",
    "\n",
    "\n"
   ]
  },
  {
   "cell_type": "code",
   "execution_count": 17,
   "id": "af22e401-7b93-453e-9180-a9720d9d192d",
   "metadata": {},
   "outputs": [
    {
     "name": "stdout",
     "output_type": "stream",
     "text": [
      "Features columns before split: ['group_id', 'age', 'income', 'credit_score', 'previous_products', 'clicks', 'time_on_site', 'loan_balance', 'amount_spent_on_call', 'clicked_landing_page', 'branch_wait_time', 'referral_bonus', 'ad_impressions']\n"
     ]
    }
   ],
   "source": [
    "y = df['converted']\n",
    "X = df.drop(columns=['converted','source'])\n",
    "group = df['group_id'] \n",
    "\n",
    "print(\"Features columns before split:\", X.columns.tolist())"
   ]
  },
  {
   "cell_type": "code",
   "execution_count": null,
   "id": "23a49eb3-909a-4796-8d1c-b448e7eca819",
   "metadata": {},
   "outputs": [
    {
     "name": "stdout",
     "output_type": "stream",
     "text": [
      "NDCG@5 Score: 0.1696\n",
      "Results saved to results_new.csv\n",
      "Model saved as lightgbm_lead_ranking_model.txt\n"
     ]
    }
   ],
   "source": [
    "# Train-test split (80-20, stratify not needed for ranking)\n",
    "X_train, X_test, y_train, y_test, group_train, group_test = train_test_split(\n",
    "    X, y, group, test_size=0.2, random_state=42\n",
    ")\n",
    "\n",
    "# LightGBM dataset with groups\n",
    "train_data = lgb.Dataset(X_train.drop(columns=[\"group_id\"]), label=y_train, group=group_train.value_counts().sort_index().values)\n",
    "test_data = lgb.Dataset(X_test.drop(columns=[\"group_id\"]), label=y_test, group=group_test.value_counts().sort_index().values)\n",
    "\n",
    "# Ranking parameters\n",
    "params = {\n",
    "    \"objective\": \"lambdarank\",   # ranking objective\n",
    "    \"metric\": \"ndcg\",\n",
    "    \"boosting_type\": \"gbdt\",\n",
    "    \"learning_rate\": 0.05,\n",
    "    \"num_leaves\": 31,\n",
    "    \"verbose\": -1\n",
    "}\n",
    "\n",
    "# Train the model\n",
    "model = lgb.train(params, train_data, valid_sets=[test_data], num_boost_round=100)\n",
    "\n",
    "# Predict relevance score\n",
    "X_test_pred = model.predict(X_test.drop(columns=[\"group_id\"],errors=\"ignore\"))\n",
    "\n",
    "ndcg = ndcg_score([y_test], [X_test_pred], k=5)\n",
    "print(f\"NDCG@5 Score: {ndcg:.4f}\")\n",
    "\n",
    "# Predict for the FULL dataset (all 10,000 rows)\n",
    "all_pred = model.predict(X.drop(columns=[\"group_id\"], errors=\"ignore\"))\n",
    "\n",
    "results = X.copy()  \n",
    "results[\"actual_conversion\"] = y.values        \n",
    "results[\"relevance_score\"]   = all_pred\n",
    "results[\"rank_global\"]       = results[\"relevance_score\"].rank(ascending=False, method=\"first\")\n",
    "\n",
    "# Sort overall by relevance_score\n",
    "results = results.sort_values(by=[\"relevance_score\"], ascending=[False])\n",
    "\n",
    "results.to_csv(\"results_new.csv\", index=False)\n",
    "print(\"Results saved to results_new.csv\")\n",
    "\n",
    "\n",
    "model.save_model(\"lightgbm_lead_ranking_model.txt\")\n",
    "print(\"Model saved as lightgbm_lead_ranking_model.txt\")\n",
    "\n",
    "!python retrain_with_feedback.py --push\n"
   ]
  },
  {
   "cell_type": "code",
   "execution_count": 30,
   "id": "aa9c5e27-2309-4812-b5c5-21175b8b016d",
   "metadata": {},
   "outputs": [
    {
     "name": "stdout",
     "output_type": "stream",
     "text": [
      "Inserted 10000 docs into leadgenerate.lead_results_new\n"
     ]
    }
   ],
   "source": [
    "#send results.csv to mongodb\n",
    "from datetime import datetime\n",
    "from pymongo.errors import CollectionInvalid\n",
    "\n",
    "MONGODB_URI = \"mongo_uri\"\n",
    "DB_NAME     = \"db_name\"\n",
    "CSV_PATH    = \"results_new.csv\"   \n",
    "COLL_NAME   = \"coll_name\"\n",
    "\n",
    "\n",
    "# Connect \n",
    "client = MongoClient(MONGODB_URI, uuidRepresentation=\"standard\")\n",
    "coll = client[DB_NAME][COLL_NAME]\n",
    "\n",
    "#insert\n",
    "df = pd.read_csv(CSV_PATH).replace({np.nan: None})\n",
    "docs = df.to_dict(orient=\"records\")\n",
    "\n",
    "# replace previous run \n",
    "coll.delete_many({})\n",
    "\n",
    "if docs:\n",
    "    coll.insert_many(docs)\n",
    "    print(f\"Inserted {len(docs)} docs into {DB_NAME}.{COLL_NAME}\")\n",
    "else:\n",
    "    print(\"results_new.csv is empty\")\n"
   ]
  },
  {
   "cell_type": "code",
   "execution_count": null,
   "id": "edcdeab3-29de-4bb7-97cb-262751d7a54d",
   "metadata": {},
   "outputs": [],
   "source": []
  },
  {
   "cell_type": "code",
   "execution_count": null,
   "id": "049814aa-e412-407d-aaa2-526de0f28b63",
   "metadata": {},
   "outputs": [],
   "source": []
  },
  {
   "cell_type": "code",
   "execution_count": null,
   "id": "eb298d84-8f54-4b05-8a40-ead0c9f17097",
   "metadata": {},
   "outputs": [],
   "source": []
  }
 ],
 "metadata": {
  "kernelspec": {
   "display_name": "Python 3",
   "language": "python",
   "name": "python3"
  },
  "language_info": {
   "codemirror_mode": {
    "name": "ipython",
    "version": 3
   },
   "file_extension": ".py",
   "mimetype": "text/x-python",
   "name": "python",
   "nbconvert_exporter": "python",
   "pygments_lexer": "ipython3",
   "version": "3.12.4"
  }
 },
 "nbformat": 4,
 "nbformat_minor": 5
}
